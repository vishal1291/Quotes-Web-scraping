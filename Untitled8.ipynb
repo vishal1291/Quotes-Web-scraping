{
 "cells": [
  {
   "cell_type": "code",
   "execution_count": null,
   "id": "f18356b4",
   "metadata": {},
   "outputs": [],
   "source": [
    "import requests\n",
    "from bs4 import BeautifulSoup\n",
    "\n",
    "url_template = 'http://quotes.toscrape.com/page/{}/'\n",
    "page_number = 1\n",
    "quotes_data = []\n",
    "\n",
    "while True:\n",
    "    url = url_template.format(page_number)\n",
    "    response = requests.get(url)\n",
    "\n",
    "    if response.status_code != 200:\n",
    "        break\n",
    "\n",
    "    soup = BeautifulSoup(response.text, 'html.parser')\n",
    "\n",
    "    quotes = soup.find_all('div', {'class': 'quote'})\n",
    "\n",
    "    for quote in quotes:\n",
    "        text = quote.find('span', {'class': 'text'}).text\n",
    "        author = quote.find('small', {'class': 'author'}).text\n",
    "        tags = [tag.text for tag in quote.find_all('a', {'class': 'tag'})]\n",
    "\n",
    "        quote_data = {\n",
    "            'text': text,\n",
    "            'author': author,\n",
    "            'tags': tags\n",
    "        }\n",
    "\n",
    "        quotes_data.append(quote_data)\n",
    "\n",
    "    page_number += 1\n",
    "\n",
    "print(quotes_data)"
   ]
  },
  {
   "cell_type": "code",
   "execution_count": null,
   "id": "2fc13b54",
   "metadata": {},
   "outputs": [],
   "source": []
  }
 ],
 "metadata": {
  "kernelspec": {
   "display_name": "Python 3 (ipykernel)",
   "language": "python",
   "name": "python3"
  },
  "language_info": {
   "codemirror_mode": {
    "name": "ipython",
    "version": 3
   },
   "file_extension": ".py",
   "mimetype": "text/x-python",
   "name": "python",
   "nbconvert_exporter": "python",
   "pygments_lexer": "ipython3",
   "version": "3.10.9"
  }
 },
 "nbformat": 4,
 "nbformat_minor": 5
}
